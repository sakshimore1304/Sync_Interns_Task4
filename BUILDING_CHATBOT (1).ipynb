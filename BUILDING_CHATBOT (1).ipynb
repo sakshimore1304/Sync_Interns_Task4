{
 "cells": [
  {
   "cell_type": "markdown",
   "id": "45032fa0",
   "metadata": {},
   "source": [
    "# CHATBOT"
   ]
  },
  {
   "cell_type": "markdown",
   "id": "f43624a9",
   "metadata": {},
   "source": [
    "### THIS CHATBOT IS MADE BY SAKSHI K MORE"
   ]
  },
  {
   "cell_type": "markdown",
   "id": "10aa465e",
   "metadata": {},
   "source": [
    "##### importing all the required libraries"
   ]
  },
  {
   "cell_type": "code",
   "execution_count": 1,
   "id": "06218619",
   "metadata": {},
   "outputs": [],
   "source": [
    "import pandas as pd\n",
    "import numpy as np\n",
    "import pywhatkit\n",
    "import pyaudio\n",
    "import wikipedia\n",
    "import webbrowser\n",
    "import datetime"
   ]
  },
  {
   "cell_type": "code",
   "execution_count": 2,
   "id": "b3a7ae8b",
   "metadata": {},
   "outputs": [],
   "source": [
    "\n",
    "def bot(text):\n",
    "    if 'hello' in text.lower():\n",
    "        print('Chatbot: ','Hi friend!')\n",
    "    elif 'hi' in text.lower():\n",
    "        print('Chatbot: ','Hello friend!')\n",
    "    elif 'how are you' in text.lower():\n",
    "        print('Chatbot: ','I am Good , How about you?!')\n",
    "    elif 'how is your day' in text.lower():\n",
    "        print('Chatbot: ','It is amazing!!')\n",
    "    elif 'youtube' in text.lower():\n",
    "        print('Chatbot: ',text)\n",
    "        pywhatkit.playonyt(text)\n",
    "    elif 'information' in text.lower():\n",
    "        print('Chatbot: ',text)\n",
    "        pywhatkit.search(text)\n",
    "    elif 'mails' in text.lower():\n",
    "        print('Chatbot: ',text)\n",
    "        webbrowser.open('https://mail.google.com/mail/u/1/#inbox')\n",
    "    elif 'python tutorial' in text.lower():\n",
    "        print('Chatbot: ',text)\n",
    "        webbrowser.open('https://in.search.yahoo.com/search?fr=mcafee&type=E211IN1274G0&p=python+tutorial')\n",
    "    elif 'jokes' in text.lower():\n",
    "        print('Chatbot: ',text)\n",
    "        webbrowser.open('https://www.rd.com/list/funniest-jokes-of-all-time/')\n",
    "    elif 'news' in text.lower():\n",
    "        print('Chatbot: ',text)\n",
    "        webbrowser.open('https://in.search.yahoo.com/search;_ylt=AwrKBZZanLNkghA0XUC7HAx.;_ylc=X1MDMjExNDcyMzAwMwRfcgMyBGZyA21jYWZlZQRmcjIDc2ItdG9wBGdwcmlkAzFId3dYOWZKUnRhV0dRVE1GRU51V0EEbl9yc2x0AzAEbl9zdWdnAzQEb3JpZ2luA2luLnNlYXJjaC55YWhvby5jb20EcG9zAzAEcHFzdHIDBHBxc3RybAMwBHFzdHJsAzE4BHF1ZXJ5A3RvcCUyMDEwJTIwbXVtYmFpJTIwbmV3cwR0X3N0bXADMTY4OTQ5MjYzNg--?p=top+10+mumbai+news&fr2=sb-top&fr=mcafee&vm=r&type=E211IN1274G0')\n",
    "    elif 'data science' in text.lower():\n",
    "        print('Chatbot: ',text)\n",
    "        pywhatkit.search(text)\n",
    "    elif 'today date' in text.lower():\n",
    "        print('Chatbot: ',datetime.datetime.now())\n",
    "    elif 'exit' in text.lower():\n",
    "        print('Chatbot: GoodBye!!')\n",
    "    "
   ]
  },
  {
   "cell_type": "code",
   "execution_count": 3,
   "id": "0d99194d",
   "metadata": {},
   "outputs": [],
   "source": [
    "def main():\n",
    "    print(\"Chatbot: Hi, I am your friendly chatbot. Type 'exit' to end the conversation.\")\n",
    "    \n",
    "    while True:\n",
    "        text = input(\"You: \")\n",
    "        if text.lower() == 'exit':\n",
    "            print(\"Chatbot: Goodbye!\")\n",
    "            break\n",
    "        \n",
    "        response = bot(text)\n",
    "        "
   ]
  },
  {
   "cell_type": "code",
   "execution_count": null,
   "id": "449a3575",
   "metadata": {},
   "outputs": [
    {
     "name": "stdout",
     "output_type": "stream",
     "text": [
      "Chatbot: Hi, I am your friendly chatbot. Type 'exit' to end the conversation.\n",
      "You: hello\n",
      "Chatbot:  Hi friend!\n",
      "You: today date\n",
      "Chatbot:  2023-07-29 21:44:45.356237\n",
      "You: information on python\n",
      "Chatbot:  information on python\n"
     ]
    }
   ],
   "source": [
    "if __name__ == \"__main__\":\n",
    "    main()"
   ]
  },
  {
   "cell_type": "code",
   "execution_count": null,
   "id": "5f4a1ead",
   "metadata": {},
   "outputs": [],
   "source": []
  }
 ],
 "metadata": {
  "kernelspec": {
   "display_name": "Python 3",
   "language": "python",
   "name": "python3"
  },
  "language_info": {
   "codemirror_mode": {
    "name": "ipython",
    "version": 3
   },
   "file_extension": ".py",
   "mimetype": "text/x-python",
   "name": "python",
   "nbconvert_exporter": "python",
   "pygments_lexer": "ipython3",
   "version": "3.8.8"
  }
 },
 "nbformat": 4,
 "nbformat_minor": 5
}
